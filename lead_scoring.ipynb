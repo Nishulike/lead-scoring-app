{
 "cells": [
  {
   "cell_type": "markdown",
   "metadata": {},
   "source": [
    "# **Lead Conversion Prediction Model using Machine Learning**\n",
    "\n",
    "This model predicts the likelihood of a lead converting into a customer using machine learning. It includes:  \n",
    "\n",
    "- **Importing Data**: Loading lead data from CSV or database.  \n",
    "- **Data Processing**: Cleaning and preparing lead data (demographics, engagement, interactions).  \n",
    "- **Feature Engineering**: Encoding categorical variables and scaling numerical data.  \n",
    "- **Model Training**: Using algorithms like Logistic Regression, Random Forest, or XGBoost.  \n",
    "- **Performance Evaluation**: Metrics like accuracy, precision, and recall.  \n",
    "- **Deployment**: Implemented with **Streamlit** for real-time lead scoring.  \n",
    "\n",
    "This model helps businesses identify high-potential leads and improve conversion rates. 🚀\n"
   ]
  },
  {
   "cell_type": "markdown",
   "metadata": {},
   "source": [
    "### 1.Importing libries "
   ]
  },
  {
   "cell_type": "code",
   "execution_count": 21,
   "metadata": {},
   "outputs": [],
   "source": [
    "import numpy as np  # NumPy: Numerical computing  \n",
    "import pandas as pd  # Pandas: Data manipulation  \n",
    "import matplotlib.pyplot as plt  # Matplotlib: Customizable data visualization (low level) \n",
    "import seaborn as sns  # Seaborn: High-level statistical visualization (built on Matplotlib)  (high level)\n"
   ]
  },
  {
   "cell_type": "markdown",
   "metadata": {},
   "source": [
    "### 2. Loading dataset"
   ]
  },
  {
   "cell_type": "code",
   "execution_count": 22,
   "metadata": {},
   "outputs": [
    {
     "data": {
      "text/html": [
       "<div>\n",
       "<style scoped>\n",
       "    .dataframe tbody tr th:only-of-type {\n",
       "        vertical-align: middle;\n",
       "    }\n",
       "\n",
       "    .dataframe tbody tr th {\n",
       "        vertical-align: top;\n",
       "    }\n",
       "\n",
       "    .dataframe thead th {\n",
       "        text-align: right;\n",
       "    }\n",
       "</style>\n",
       "<table border=\"1\" class=\"dataframe\">\n",
       "  <thead>\n",
       "    <tr style=\"text-align: right;\">\n",
       "      <th></th>\n",
       "      <th>Prospect ID</th>\n",
       "      <th>Lead Number</th>\n",
       "      <th>Lead Origin</th>\n",
       "      <th>Lead Source</th>\n",
       "      <th>Do Not Email</th>\n",
       "      <th>Do Not Call</th>\n",
       "      <th>Converted</th>\n",
       "      <th>TotalVisits</th>\n",
       "      <th>Total Time Spent on Website</th>\n",
       "      <th>Page Views Per Visit</th>\n",
       "      <th>...</th>\n",
       "      <th>Get updates on DM Content</th>\n",
       "      <th>Lead Profile</th>\n",
       "      <th>City</th>\n",
       "      <th>Asymmetrique Activity Index</th>\n",
       "      <th>Asymmetrique Profile Index</th>\n",
       "      <th>Asymmetrique Activity Score</th>\n",
       "      <th>Asymmetrique Profile Score</th>\n",
       "      <th>I agree to pay the amount through cheque</th>\n",
       "      <th>A free copy of Mastering The Interview</th>\n",
       "      <th>Last Notable Activity</th>\n",
       "    </tr>\n",
       "  </thead>\n",
       "  <tbody>\n",
       "    <tr>\n",
       "      <th>0</th>\n",
       "      <td>7927b2df-8bba-4d29-b9a2-b6e0beafe620</td>\n",
       "      <td>660737</td>\n",
       "      <td>API</td>\n",
       "      <td>Olark Chat</td>\n",
       "      <td>No</td>\n",
       "      <td>No</td>\n",
       "      <td>0</td>\n",
       "      <td>0.0</td>\n",
       "      <td>0</td>\n",
       "      <td>0.0</td>\n",
       "      <td>...</td>\n",
       "      <td>No</td>\n",
       "      <td>Select</td>\n",
       "      <td>Select</td>\n",
       "      <td>02.Medium</td>\n",
       "      <td>02.Medium</td>\n",
       "      <td>15.0</td>\n",
       "      <td>15.0</td>\n",
       "      <td>No</td>\n",
       "      <td>No</td>\n",
       "      <td>Modified</td>\n",
       "    </tr>\n",
       "    <tr>\n",
       "      <th>1</th>\n",
       "      <td>2a272436-5132-4136-86fa-dcc88c88f482</td>\n",
       "      <td>660728</td>\n",
       "      <td>API</td>\n",
       "      <td>Organic Search</td>\n",
       "      <td>No</td>\n",
       "      <td>No</td>\n",
       "      <td>0</td>\n",
       "      <td>5.0</td>\n",
       "      <td>674</td>\n",
       "      <td>2.5</td>\n",
       "      <td>...</td>\n",
       "      <td>No</td>\n",
       "      <td>Select</td>\n",
       "      <td>Select</td>\n",
       "      <td>02.Medium</td>\n",
       "      <td>02.Medium</td>\n",
       "      <td>15.0</td>\n",
       "      <td>15.0</td>\n",
       "      <td>No</td>\n",
       "      <td>No</td>\n",
       "      <td>Email Opened</td>\n",
       "    </tr>\n",
       "    <tr>\n",
       "      <th>2</th>\n",
       "      <td>8cc8c611-a219-4f35-ad23-fdfd2656bd8a</td>\n",
       "      <td>660727</td>\n",
       "      <td>Landing Page Submission</td>\n",
       "      <td>Direct Traffic</td>\n",
       "      <td>No</td>\n",
       "      <td>No</td>\n",
       "      <td>1</td>\n",
       "      <td>2.0</td>\n",
       "      <td>1532</td>\n",
       "      <td>2.0</td>\n",
       "      <td>...</td>\n",
       "      <td>No</td>\n",
       "      <td>Potential Lead</td>\n",
       "      <td>Mumbai</td>\n",
       "      <td>02.Medium</td>\n",
       "      <td>01.High</td>\n",
       "      <td>14.0</td>\n",
       "      <td>20.0</td>\n",
       "      <td>No</td>\n",
       "      <td>Yes</td>\n",
       "      <td>Email Opened</td>\n",
       "    </tr>\n",
       "    <tr>\n",
       "      <th>3</th>\n",
       "      <td>0cc2df48-7cf4-4e39-9de9-19797f9b38cc</td>\n",
       "      <td>660719</td>\n",
       "      <td>Landing Page Submission</td>\n",
       "      <td>Direct Traffic</td>\n",
       "      <td>No</td>\n",
       "      <td>No</td>\n",
       "      <td>0</td>\n",
       "      <td>1.0</td>\n",
       "      <td>305</td>\n",
       "      <td>1.0</td>\n",
       "      <td>...</td>\n",
       "      <td>No</td>\n",
       "      <td>Select</td>\n",
       "      <td>Mumbai</td>\n",
       "      <td>02.Medium</td>\n",
       "      <td>01.High</td>\n",
       "      <td>13.0</td>\n",
       "      <td>17.0</td>\n",
       "      <td>No</td>\n",
       "      <td>No</td>\n",
       "      <td>Modified</td>\n",
       "    </tr>\n",
       "    <tr>\n",
       "      <th>4</th>\n",
       "      <td>3256f628-e534-4826-9d63-4a8b88782852</td>\n",
       "      <td>660681</td>\n",
       "      <td>Landing Page Submission</td>\n",
       "      <td>Google</td>\n",
       "      <td>No</td>\n",
       "      <td>No</td>\n",
       "      <td>1</td>\n",
       "      <td>2.0</td>\n",
       "      <td>1428</td>\n",
       "      <td>1.0</td>\n",
       "      <td>...</td>\n",
       "      <td>No</td>\n",
       "      <td>Select</td>\n",
       "      <td>Mumbai</td>\n",
       "      <td>02.Medium</td>\n",
       "      <td>01.High</td>\n",
       "      <td>15.0</td>\n",
       "      <td>18.0</td>\n",
       "      <td>No</td>\n",
       "      <td>No</td>\n",
       "      <td>Modified</td>\n",
       "    </tr>\n",
       "  </tbody>\n",
       "</table>\n",
       "<p>5 rows × 37 columns</p>\n",
       "</div>"
      ],
      "text/plain": [
       "                            Prospect ID  Lead Number              Lead Origin  \\\n",
       "0  7927b2df-8bba-4d29-b9a2-b6e0beafe620       660737                      API   \n",
       "1  2a272436-5132-4136-86fa-dcc88c88f482       660728                      API   \n",
       "2  8cc8c611-a219-4f35-ad23-fdfd2656bd8a       660727  Landing Page Submission   \n",
       "3  0cc2df48-7cf4-4e39-9de9-19797f9b38cc       660719  Landing Page Submission   \n",
       "4  3256f628-e534-4826-9d63-4a8b88782852       660681  Landing Page Submission   \n",
       "\n",
       "      Lead Source Do Not Email Do Not Call  Converted  TotalVisits  \\\n",
       "0      Olark Chat           No          No          0          0.0   \n",
       "1  Organic Search           No          No          0          5.0   \n",
       "2  Direct Traffic           No          No          1          2.0   \n",
       "3  Direct Traffic           No          No          0          1.0   \n",
       "4          Google           No          No          1          2.0   \n",
       "\n",
       "   Total Time Spent on Website  Page Views Per Visit  ...  \\\n",
       "0                            0                   0.0  ...   \n",
       "1                          674                   2.5  ...   \n",
       "2                         1532                   2.0  ...   \n",
       "3                          305                   1.0  ...   \n",
       "4                         1428                   1.0  ...   \n",
       "\n",
       "  Get updates on DM Content    Lead Profile    City  \\\n",
       "0                        No          Select  Select   \n",
       "1                        No          Select  Select   \n",
       "2                        No  Potential Lead  Mumbai   \n",
       "3                        No          Select  Mumbai   \n",
       "4                        No          Select  Mumbai   \n",
       "\n",
       "  Asymmetrique Activity Index Asymmetrique Profile Index  \\\n",
       "0                   02.Medium                  02.Medium   \n",
       "1                   02.Medium                  02.Medium   \n",
       "2                   02.Medium                    01.High   \n",
       "3                   02.Medium                    01.High   \n",
       "4                   02.Medium                    01.High   \n",
       "\n",
       "  Asymmetrique Activity Score Asymmetrique Profile Score  \\\n",
       "0                        15.0                       15.0   \n",
       "1                        15.0                       15.0   \n",
       "2                        14.0                       20.0   \n",
       "3                        13.0                       17.0   \n",
       "4                        15.0                       18.0   \n",
       "\n",
       "  I agree to pay the amount through cheque  \\\n",
       "0                                       No   \n",
       "1                                       No   \n",
       "2                                       No   \n",
       "3                                       No   \n",
       "4                                       No   \n",
       "\n",
       "  A free copy of Mastering The Interview Last Notable Activity  \n",
       "0                                     No              Modified  \n",
       "1                                     No          Email Opened  \n",
       "2                                    Yes          Email Opened  \n",
       "3                                     No              Modified  \n",
       "4                                     No              Modified  \n",
       "\n",
       "[5 rows x 37 columns]"
      ]
     },
     "execution_count": 22,
     "metadata": {},
     "output_type": "execute_result"
    }
   ],
   "source": [
    "df=pd.read_csv('Lead Scoring.csv')\n",
    "df.head()"
   ]
  },
  {
   "cell_type": "markdown",
   "metadata": {},
   "source": [
    "### 3.Exploratory Data Analysis (EDA)"
   ]
  },
  {
   "cell_type": "code",
   "execution_count": 23,
   "metadata": {},
   "outputs": [
    {
     "name": "stdout",
     "output_type": "stream",
     "text": [
      "<class 'pandas.core.frame.DataFrame'>\n",
      "RangeIndex: 9240 entries, 0 to 9239\n",
      "Data columns (total 37 columns):\n",
      " #   Column                                         Non-Null Count  Dtype  \n",
      "---  ------                                         --------------  -----  \n",
      " 0   Prospect ID                                    9240 non-null   object \n",
      " 1   Lead Number                                    9240 non-null   int64  \n",
      " 2   Lead Origin                                    9240 non-null   object \n",
      " 3   Lead Source                                    9204 non-null   object \n",
      " 4   Do Not Email                                   9240 non-null   object \n",
      " 5   Do Not Call                                    9240 non-null   object \n",
      " 6   Converted                                      9240 non-null   int64  \n",
      " 7   TotalVisits                                    9103 non-null   float64\n",
      " 8   Total Time Spent on Website                    9240 non-null   int64  \n",
      " 9   Page Views Per Visit                           9103 non-null   float64\n",
      " 10  Last Activity                                  9137 non-null   object \n",
      " 11  Country                                        6779 non-null   object \n",
      " 12  Specialization                                 7802 non-null   object \n",
      " 13  How did you hear about X Education             7033 non-null   object \n",
      " 14  What is your current occupation                6550 non-null   object \n",
      " 15  What matters most to you in choosing a course  6531 non-null   object \n",
      " 16  Search                                         9240 non-null   object \n",
      " 17  Magazine                                       9240 non-null   object \n",
      " 18  Newspaper Article                              9240 non-null   object \n",
      " 19  X Education Forums                             9240 non-null   object \n",
      " 20  Newspaper                                      9240 non-null   object \n",
      " 21  Digital Advertisement                          9240 non-null   object \n",
      " 22  Through Recommendations                        9240 non-null   object \n",
      " 23  Receive More Updates About Our Courses         9240 non-null   object \n",
      " 24  Tags                                           5887 non-null   object \n",
      " 25  Lead Quality                                   4473 non-null   object \n",
      " 26  Update me on Supply Chain Content              9240 non-null   object \n",
      " 27  Get updates on DM Content                      9240 non-null   object \n",
      " 28  Lead Profile                                   6531 non-null   object \n",
      " 29  City                                           7820 non-null   object \n",
      " 30  Asymmetrique Activity Index                    5022 non-null   object \n",
      " 31  Asymmetrique Profile Index                     5022 non-null   object \n",
      " 32  Asymmetrique Activity Score                    5022 non-null   float64\n",
      " 33  Asymmetrique Profile Score                     5022 non-null   float64\n",
      " 34  I agree to pay the amount through cheque       9240 non-null   object \n",
      " 35  A free copy of Mastering The Interview         9240 non-null   object \n",
      " 36  Last Notable Activity                          9240 non-null   object \n",
      "dtypes: float64(4), int64(3), object(30)\n",
      "memory usage: 2.6+ MB\n"
     ]
    }
   ],
   "source": [
    "df.info()"
   ]
  },
  {
   "cell_type": "markdown",
   "metadata": {},
   "source": [
    "#### There are to many Categorical columns and 3 integers and 2 float columns "
   ]
  },
  {
   "cell_type": "markdown",
   "metadata": {},
   "source": [
    "#### A)Removing not required columns "
   ]
  },
  {
   "cell_type": "code",
   "execution_count": 24,
   "metadata": {},
   "outputs": [],
   "source": [
    "df.drop(columns=['Prospect ID','Lead Number'],inplace=True)"
   ]
  },
  {
   "cell_type": "markdown",
   "metadata": {},
   "source": [
    "#### B) Binary conversion"
   ]
  },
  {
   "cell_type": "markdown",
   "metadata": {},
   "source": [
    "# **Data Encoding in Machine Learning**\n",
    "\n",
    "### **What is Data Encoding?**\n",
    "Data encoding is the process of converting categorical variables into numerical format so that machine learning models can process them effectively.\n",
    "\n",
    "## **Types of Data Encoding**\n",
    "\n",
    "### 1️⃣ **Label Encoding**\n",
    "- Assigns a unique integer to each category.\n",
    "- Used for **ordinal** categorical data (where order matters).\n",
    "- Example:\n",
    "  - `[\"Low\", \"Medium\", \"High\"] → [0, 1, 2]`\n",
    "- **Limitation**: Can create an unintended ranking effect in non-ordinal data.\n",
    "\n",
    "### 2️⃣ **One-Hot Encoding**\n",
    "- Creates separate binary columns for each category.\n",
    "- Used for **nominal** categorical data (where order doesn’t matter).\n",
    "- Example:\n"
   ]
  },
  {
   "cell_type": "code",
   "execution_count": 25,
   "metadata": {},
   "outputs": [],
   "source": [
    "from sklearn.preprocessing import LabelEncoder\n",
    "# Convert binary 'Yes'/'No' columns to 1/0 using Label Encoding\n",
    "binary_cols = [\n",
    "    \"Do Not Email\", \"Do Not Call\", \"Search\", \"Magazine\", \"Newspaper Article\",\n",
    "    \"X Education Forums\", \"Newspaper\", \"Digital Advertisement\", \"Through Recommendations\",\n",
    "    \"Receive More Updates About Our Courses\", \"Update me on Supply Chain Content\",\n",
    "    \"Get updates on DM Content\", \"I agree to pay the amount through cheque\",\n",
    "    \"A free copy of Mastering The Interview\"\n",
    "]\n",
    "le = LabelEncoder()\n",
    "for col in binary_cols:\n",
    "    df[col] = le.fit_transform(df[col].astype(str))"
   ]
  },
  {
   "cell_type": "markdown",
   "metadata": {},
   "source": [
    "#### C) checking for Null values "
   ]
  },
  {
   "cell_type": "code",
   "execution_count": 26,
   "metadata": {},
   "outputs": [
    {
     "data": {
      "text/plain": [
       "Lead Origin                                         0\n",
       "Lead Source                                        36\n",
       "Do Not Email                                        0\n",
       "Do Not Call                                         0\n",
       "Converted                                           0\n",
       "TotalVisits                                       137\n",
       "Total Time Spent on Website                         0\n",
       "Page Views Per Visit                              137\n",
       "Last Activity                                     103\n",
       "Country                                          2461\n",
       "Specialization                                   1438\n",
       "How did you hear about X Education               2207\n",
       "What is your current occupation                  2690\n",
       "What matters most to you in choosing a course    2709\n",
       "Search                                              0\n",
       "Magazine                                            0\n",
       "Newspaper Article                                   0\n",
       "X Education Forums                                  0\n",
       "Newspaper                                           0\n",
       "Digital Advertisement                               0\n",
       "Through Recommendations                             0\n",
       "Receive More Updates About Our Courses              0\n",
       "Tags                                             3353\n",
       "Lead Quality                                     4767\n",
       "Update me on Supply Chain Content                   0\n",
       "Get updates on DM Content                           0\n",
       "Lead Profile                                     2709\n",
       "City                                             1420\n",
       "Asymmetrique Activity Index                      4218\n",
       "Asymmetrique Profile Index                       4218\n",
       "Asymmetrique Activity Score                      4218\n",
       "Asymmetrique Profile Score                       4218\n",
       "I agree to pay the amount through cheque            0\n",
       "A free copy of Mastering The Interview              0\n",
       "Last Notable Activity                               0\n",
       "dtype: int64"
      ]
     },
     "execution_count": 26,
     "metadata": {},
     "output_type": "execute_result"
    }
   ],
   "source": [
    "df.isnull().sum()"
   ]
  },
  {
   "cell_type": "markdown",
   "metadata": {},
   "source": [
    "# **Missing Value Imputation**\n",
    "\n",
    "This method is used to handle missing values in a dataset by replacing them with appropriate statistical measures.\n",
    "\n",
    "## **Types of Imputation Used in the Code**\n",
    "1. **Median Imputation (For Numeric Columns)**\n",
    "   - Replaces missing values in numerical columns with the **median**.\n",
    "   - Helps reduce the effect of outliers and skewed distributions.\n",
    "   \n",
    "2. **Mode Imputation (For Categorical Columns)**\n",
    "   - Replaces missing values in categorical columns with the **mode** (most frequent value).\n",
    "   - Ensures consistency by filling missing categories with the most common one.\n",
    "\n",
    "## **Why Use This Approach?**\n",
    "- Prevents data loss by imputing missing values instead of removing rows.\n",
    "- Ensures better model performance by maintaining data consistency.\n",
    "- Avoids bias introduced by mean imputation in skewed datasets.\n",
    "\n",
    "This technique is widely used in data preprocessing to improve data quality before applying machine learning models. 🚀\n"
   ]
  },
  {
   "cell_type": "code",
   "execution_count": 27,
   "metadata": {},
   "outputs": [],
   "source": [
    "# Fill numeric columns with median\n",
    "numeric_cols = df.select_dtypes(include=['number']).columns  # Selects all numerical columns\n",
    "df[numeric_cols] = df[numeric_cols].fillna(df[numeric_cols].median())  # Replaces missing values with the median of each column\n",
    "\n",
    "# Fill categorical columns with mode\n",
    "categorical_cols = df.select_dtypes(include=['object']).columns  # Selects all categorical columns\n",
    "for col in categorical_cols:\n",
    "    df[col].fillna(df[col].mode()[0], inplace=True)  # Replaces missing values with the most frequent value (mode) in each column\n"
   ]
  },
  {
   "cell_type": "code",
   "execution_count": 28,
   "metadata": {},
   "outputs": [
    {
     "data": {
      "text/plain": [
       "Lead Origin                                      0\n",
       "Lead Source                                      0\n",
       "Do Not Email                                     0\n",
       "Do Not Call                                      0\n",
       "Converted                                        0\n",
       "TotalVisits                                      0\n",
       "Total Time Spent on Website                      0\n",
       "Page Views Per Visit                             0\n",
       "Last Activity                                    0\n",
       "Country                                          0\n",
       "Specialization                                   0\n",
       "How did you hear about X Education               0\n",
       "What is your current occupation                  0\n",
       "What matters most to you in choosing a course    0\n",
       "Search                                           0\n",
       "Magazine                                         0\n",
       "Newspaper Article                                0\n",
       "X Education Forums                               0\n",
       "Newspaper                                        0\n",
       "Digital Advertisement                            0\n",
       "Through Recommendations                          0\n",
       "Receive More Updates About Our Courses           0\n",
       "Tags                                             0\n",
       "Lead Quality                                     0\n",
       "Update me on Supply Chain Content                0\n",
       "Get updates on DM Content                        0\n",
       "Lead Profile                                     0\n",
       "City                                             0\n",
       "Asymmetrique Activity Index                      0\n",
       "Asymmetrique Profile Index                       0\n",
       "Asymmetrique Activity Score                      0\n",
       "Asymmetrique Profile Score                       0\n",
       "I agree to pay the amount through cheque         0\n",
       "A free copy of Mastering The Interview           0\n",
       "Last Notable Activity                            0\n",
       "dtype: int64"
      ]
     },
     "execution_count": 28,
     "metadata": {},
     "output_type": "execute_result"
    }
   ],
   "source": [
    "df.isnull().sum()"
   ]
  },
  {
   "cell_type": "code",
   "execution_count": 29,
   "metadata": {},
   "outputs": [
    {
     "name": "stdout",
     "output_type": "stream",
     "text": [
      "<class 'pandas.core.frame.DataFrame'>\n",
      "RangeIndex: 9240 entries, 0 to 9239\n",
      "Data columns (total 35 columns):\n",
      " #   Column                                         Non-Null Count  Dtype  \n",
      "---  ------                                         --------------  -----  \n",
      " 0   Lead Origin                                    9240 non-null   object \n",
      " 1   Lead Source                                    9240 non-null   object \n",
      " 2   Do Not Email                                   9240 non-null   int32  \n",
      " 3   Do Not Call                                    9240 non-null   int32  \n",
      " 4   Converted                                      9240 non-null   int64  \n",
      " 5   TotalVisits                                    9240 non-null   float64\n",
      " 6   Total Time Spent on Website                    9240 non-null   int64  \n",
      " 7   Page Views Per Visit                           9240 non-null   float64\n",
      " 8   Last Activity                                  9240 non-null   object \n",
      " 9   Country                                        9240 non-null   object \n",
      " 10  Specialization                                 9240 non-null   object \n",
      " 11  How did you hear about X Education             9240 non-null   object \n",
      " 12  What is your current occupation                9240 non-null   object \n",
      " 13  What matters most to you in choosing a course  9240 non-null   object \n",
      " 14  Search                                         9240 non-null   int32  \n",
      " 15  Magazine                                       9240 non-null   int32  \n",
      " 16  Newspaper Article                              9240 non-null   int32  \n",
      " 17  X Education Forums                             9240 non-null   int32  \n",
      " 18  Newspaper                                      9240 non-null   int32  \n",
      " 19  Digital Advertisement                          9240 non-null   int32  \n",
      " 20  Through Recommendations                        9240 non-null   int32  \n",
      " 21  Receive More Updates About Our Courses         9240 non-null   int32  \n",
      " 22  Tags                                           9240 non-null   object \n",
      " 23  Lead Quality                                   9240 non-null   object \n",
      " 24  Update me on Supply Chain Content              9240 non-null   int32  \n",
      " 25  Get updates on DM Content                      9240 non-null   int32  \n",
      " 26  Lead Profile                                   9240 non-null   object \n",
      " 27  City                                           9240 non-null   object \n",
      " 28  Asymmetrique Activity Index                    9240 non-null   object \n",
      " 29  Asymmetrique Profile Index                     9240 non-null   object \n",
      " 30  Asymmetrique Activity Score                    9240 non-null   float64\n",
      " 31  Asymmetrique Profile Score                     9240 non-null   float64\n",
      " 32  I agree to pay the amount through cheque       9240 non-null   int32  \n",
      " 33  A free copy of Mastering The Interview         9240 non-null   int32  \n",
      " 34  Last Notable Activity                          9240 non-null   object \n",
      "dtypes: float64(4), int32(14), int64(2), object(15)\n",
      "memory usage: 2.0+ MB\n"
     ]
    }
   ],
   "source": [
    "df.info(\n",
    "    \n",
    ")"
   ]
  },
  {
   "cell_type": "markdown",
   "metadata": {},
   "source": [
    "#### D)Encoding for categorical variables "
   ]
  },
  {
   "cell_type": "code",
   "execution_count": 30,
   "metadata": {},
   "outputs": [],
   "source": [
    "from sklearn.preprocessing import OneHotEncoder\n",
    "\n",
    "# One-hot encoding for categorical variables\n",
    "df = pd.get_dummies(df, drop_first=True)"
   ]
  },
  {
   "cell_type": "markdown",
   "metadata": {},
   "source": [
    "### Train - Test split"
   ]
  },
  {
   "cell_type": "code",
   "execution_count": 31,
   "metadata": {},
   "outputs": [],
   "source": [
    "from sklearn.model_selection import train_test_split\n",
    "\n",
    "# Define features (X) and target variable (y)\n",
    "X = df.drop(\"Converted\", axis=1)  # Drop the target column to get feature set\n",
    "y = df[\"Converted\"]  # Target variable (lead conversion)\n",
    "\n",
    "# Split data into training (80%) and testing (20%) sets\n",
    "X_train, X_test, y_train, y_test = train_test_split(\n",
    "    X, y, test_size=0.2, random_state=42, stratify=y\n",
    ")\n",
    "\n",
    "# test_size=0.2 -> 20% data used for testing, 80% for training\n",
    "# random_state=42 -> Ensures consistent results across runs\n",
    "# stratify=y -> Maintains the same proportion of target classes in train and test sets\n"
   ]
  },
  {
   "cell_type": "markdown",
   "metadata": {},
   "source": [
    "####  Standardize numerical features"
   ]
  },
  {
   "cell_type": "code",
   "execution_count": 32,
   "metadata": {},
   "outputs": [],
   "source": [
    "from sklearn.preprocessing import StandardScaler\n",
    "scaler = StandardScaler()\n",
    "X_train = scaler.fit_transform(X_train)\n",
    "X_test = scaler.transform(X_test)"
   ]
  },
  {
   "cell_type": "markdown",
   "metadata": {},
   "source": [
    "#### Model Selection and Training"
   ]
  },
  {
   "cell_type": "code",
   "execution_count": 33,
   "metadata": {},
   "outputs": [
    {
     "name": "stdout",
     "output_type": "stream",
     "text": [
      "Logistic Regression Classification Report:\n",
      "\n",
      "              precision    recall  f1-score   support\n",
      "\n",
      "           0       0.94      0.94      0.94      1136\n",
      "           1       0.91      0.90      0.91       712\n",
      "\n",
      "    accuracy                           0.93      1848\n",
      "   macro avg       0.92      0.92      0.92      1848\n",
      "weighted avg       0.93      0.93      0.93      1848\n",
      "\n",
      "------------------------------------------------------------\n",
      "Decision Tree Classification Report:\n",
      "\n",
      "              precision    recall  f1-score   support\n",
      "\n",
      "           0       0.93      0.93      0.93      1136\n",
      "           1       0.89      0.89      0.89       712\n",
      "\n",
      "    accuracy                           0.91      1848\n",
      "   macro avg       0.91      0.91      0.91      1848\n",
      "weighted avg       0.91      0.91      0.91      1848\n",
      "\n",
      "------------------------------------------------------------\n",
      "Random Forest Classification Report:\n",
      "\n",
      "              precision    recall  f1-score   support\n",
      "\n",
      "           0       0.93      0.95      0.94      1136\n",
      "           1       0.91      0.89      0.90       712\n",
      "\n",
      "    accuracy                           0.93      1848\n",
      "   macro avg       0.92      0.92      0.92      1848\n",
      "weighted avg       0.93      0.93      0.93      1848\n",
      "\n",
      "------------------------------------------------------------\n",
      "Gradient Boosting Classification Report:\n",
      "\n",
      "              precision    recall  f1-score   support\n",
      "\n",
      "           0       0.94      0.94      0.94      1136\n",
      "           1       0.91      0.91      0.91       712\n",
      "\n",
      "    accuracy                           0.93      1848\n",
      "   macro avg       0.93      0.93      0.93      1848\n",
      "weighted avg       0.93      0.93      0.93      1848\n",
      "\n",
      "------------------------------------------------------------\n"
     ]
    }
   ],
   "source": [
    "from sklearn.ensemble import RandomForestClassifier, GradientBoostingClassifier  # Tree-based models\n",
    "from sklearn.linear_model import LogisticRegression  # Logistic Regression model\n",
    "from sklearn.tree import DecisionTreeClassifier  # Decision Tree model\n",
    "from sklearn.metrics import accuracy_score, precision_score, recall_score, f1_score, classification_report\n",
    "#  Initialize models\n",
    "models = {\n",
    "    \"Logistic Regression\": LogisticRegression(max_iter=1000),\n",
    "    \"Decision Tree\": DecisionTreeClassifier(),\n",
    "    \"Random Forest\": RandomForestClassifier(),\n",
    "    \"Gradient Boosting\": GradientBoostingClassifier()\n",
    "}\n",
    "\n",
    "\n",
    "# Train and evaluate models\n",
    "results = {}\n",
    "for name, model in models.items():\n",
    "    model.fit(X_train, y_train)\n",
    "    y_pred = model.predict(X_test)\n",
    "    report = classification_report(y_test, y_pred, output_dict=True)\n",
    "    results[name] = {\n",
    "        'Accuracy': report['accuracy'],\n",
    "        'Precision': report['weighted avg']['precision'],\n",
    "        'Recall': report['weighted avg']['recall'],\n",
    "        'F1 Score': report['weighted avg']['f1-score']\n",
    "    }\n",
    "    print(f\"{name} Classification Report:\\n\")\n",
    "    print(classification_report(y_test, y_pred))\n",
    "    print(\"-\" * 60)\n",
    "\n"
   ]
  },
  {
   "cell_type": "code",
   "execution_count": 34,
   "metadata": {},
   "outputs": [
    {
     "name": "stdout",
     "output_type": "stream",
     "text": [
      "                     Accuracy  Precision    Recall  F1 Score\n",
      "Logistic Regression  0.928571   0.928505  0.928571  0.928534\n",
      "Decision Tree        0.913961   0.914086  0.913961  0.914017\n",
      "Random Forest        0.925866   0.925701  0.925866  0.925735\n",
      "Gradient Boosting    0.929654   0.929654  0.929654  0.929654\n"
     ]
    }
   ],
   "source": [
    "# Show results\n",
    "results_df = pd.DataFrame.from_dict(results, orient='index')\n",
    "print(results_df)\n"
   ]
  },
  {
   "cell_type": "code",
   "execution_count": 35,
   "metadata": {},
   "outputs": [
    {
     "name": "stdout",
     "output_type": "stream",
     "text": [
      "Best model based on all metrics: Gradient Boosting\n",
      "Best model based on F1 Score: Gradient Boosting (0.9297)\n",
      "Best model based on Accuracy: Gradient Boosting (0.9297)\n",
      "Best model based on Precision: Gradient Boosting (0.9297)\n"
     ]
    }
   ],
   "source": [
    "# Determine the best model based on multiple metrics\n",
    "best_model = results_df[['Accuracy', 'Precision', 'Recall', 'F1 Score']].mean(axis=1).idxmax()\n",
    "best_f1_model = results_df['F1 Score'].idxmax()\n",
    "best_accuracy_model = results_df['Accuracy'].idxmax()\n",
    "best_precision_model = results_df['Precision'].idxmax()\n",
    "\n",
    "print(f\"Best model based on all metrics: {best_model}\")\n",
    "print(f\"Best model based on F1 Score: {best_f1_model} ({results_df['F1 Score'].max():.4f})\")\n",
    "print(f\"Best model based on Accuracy: {best_accuracy_model} ({results_df['Accuracy'].max():.4f})\")\n",
    "print(f\"Best model based on Precision: {best_precision_model} ({results_df['Precision'].max():.4f})\")\n",
    "\n"
   ]
  },
  {
   "cell_type": "markdown",
   "metadata": {},
   "source": [
    "For deployment, the model choice depends on what you value more: precision/recall trade-off (F1 Score) or overall correctness (Accuracy). Let’s break it down:\n",
    "\n",
    "Based on your lead scoring context, the best metric to focus on is the F1 Score because it balances precision and recall, ensuring both quality leads and missed opportunities are considered. Precision is also crucial, as you don’t want to waste resources chasing poor-quality leads.\n",
    "\n",
    "In your code, the best models are:\n",
    "\n",
    "🏆 Best Overall Model (All Metrics): {best_model}\n",
    "⚖️ Best F1 Score: {best_f1_model} — Score: {results_df['F1 Score'].max():.4f}\n",
    "🎯 Best Precision: {best_precision_model} — Score: {results_df['Precision'].max():.4f}\n",
    "✅ Best Accuracy: {best_accuracy_model} — Score: {results_df['Accuracy'].max():.4f}\n",
    "Since lead scoring benefits most from balancing precision and recall, I’d recommend deploying the model with the highest F1 Score. If precision is more important for your use case, go with the model that has the highest precision. Let me know if you’d like to implement any further enhancements, like handling imbalanced data or tuning hyperparameters! 🚀\n"
   ]
  },
  {
   "cell_type": "markdown",
   "metadata": {},
   "source": [
    "### Checking Overfitting "
   ]
  },
  {
   "cell_type": "code",
   "execution_count": 38,
   "metadata": {},
   "outputs": [
    {
     "name": "stdout",
     "output_type": "stream",
     "text": [
      "Logistic Regression Training Classification Report:\n",
      "\n",
      "              precision    recall  f1-score   support\n",
      "\n",
      "           0       0.94      0.95      0.95      4543\n",
      "           1       0.92      0.90      0.91      2849\n",
      "\n",
      "    accuracy                           0.93      7392\n",
      "   macro avg       0.93      0.93      0.93      7392\n",
      "weighted avg       0.93      0.93      0.93      7392\n",
      "\n",
      "------------------------------------------------------------\n",
      "Decision Tree Training Classification Report:\n",
      "\n",
      "              precision    recall  f1-score   support\n",
      "\n",
      "           0       1.00      1.00      1.00      4543\n",
      "           1       0.99      1.00      0.99      2849\n",
      "\n",
      "    accuracy                           1.00      7392\n",
      "   macro avg       0.99      1.00      1.00      7392\n",
      "weighted avg       1.00      1.00      1.00      7392\n",
      "\n",
      "------------------------------------------------------------\n",
      "Random Forest Training Classification Report:\n",
      "\n",
      "              precision    recall  f1-score   support\n",
      "\n",
      "           0       1.00      1.00      1.00      4543\n",
      "           1       0.99      1.00      0.99      2849\n",
      "\n",
      "    accuracy                           1.00      7392\n",
      "   macro avg       0.99      1.00      1.00      7392\n",
      "weighted avg       1.00      1.00      1.00      7392\n",
      "\n",
      "------------------------------------------------------------\n",
      "Gradient Boosting Training Classification Report:\n",
      "\n",
      "              precision    recall  f1-score   support\n",
      "\n",
      "           0       0.94      0.96      0.95      4543\n",
      "           1       0.93      0.90      0.92      2849\n",
      "\n",
      "    accuracy                           0.94      7392\n",
      "   macro avg       0.94      0.93      0.93      7392\n",
      "weighted avg       0.94      0.94      0.94      7392\n",
      "\n",
      "------------------------------------------------------------\n"
     ]
    },
    {
     "data": {
      "image/png": "[encoded data removed]",
      "text/plain": [
       "<Figure size 1200x1000 with 4 Axes>"
      ]
     },
     "metadata": {},
     "output_type": "display_data"
    }
   ],
   "source": [
    "from sklearn.metrics import classification_report\n",
    "import matplotlib.pyplot as plt\n",
    "\n",
    "# Evaluate models on training set and store results\n",
    "train_results = {}\n",
    "for name, model in models.items():  # Loop through all models\n",
    "    y_train_pred = model.predict(X_train)  # Predict on training data\n",
    "    train_report = classification_report(y_train, y_train_pred, output_dict=True)  # Generate classification report\n",
    "\n",
    "    # Store evaluation metrics\n",
    "    train_results[name] = {\n",
    "        'Accuracy': train_report['accuracy'],\n",
    "        'Precision': train_report['weighted avg']['precision'],\n",
    "        'Recall': train_report['weighted avg']['recall'],\n",
    "        'F1 Score': train_report['weighted avg']['f1-score']\n",
    "    }\n",
    "\n",
    "    # Print training set classification report\n",
    "    print(f\"{name} Training Classification Report:\\n\")\n",
    "    print(classification_report(y_train, y_train_pred))\n",
    "    print(\"-\" * 60)\n",
    "\n",
    "# Define metrics to visualize\n",
    "metrics = ['Accuracy', 'Precision', 'Recall', 'F1 Score']\n",
    "fig, axes = plt.subplots(2, 2, figsize=(12, 10))  # Create 2x2 subplots\n",
    "axes = axes.flatten()  # Flatten into a 1D array for easier iteration\n",
    "\n",
    "for i, metric in enumerate(metrics):\n",
    "    train_scores = [train_results[model][metric] for model in models]  # Get train scores\n",
    "    test_scores = [results[model][metric] for model in models]  # Get test scores\n",
    "\n",
    "    axes[i].plot(list(models.keys()), train_scores, label='Train', marker='o')  # Plot training scores\n",
    "    axes[i].plot(list(models.keys()), test_scores, label='Test', marker='x')  # Plot test scores\n",
    "\n",
    "    axes[i].set_title(metric)  # Set title for subplot\n",
    "    axes[i].set_xlabel('Models')  # Label x-axis\n",
    "    axes[i].set_ylabel(metric)  # Label y-axis\n",
    "    axes[i].legend(title=\"Dataset\", loc=\"best\")  # Add legend to each subplot\n",
    "\n",
    "plt.tight_layout()  # Adjust layout for better visibility\n",
    "plt.show()  # Show the plot\n"
   ]
  },
  {
   "cell_type": "code",
   "execution_count": null,
   "metadata": {},
   "outputs": [
    {
     "name": "stdout",
     "output_type": "stream",
     "text": [
      "Model                    Train Accuracy Test Accuracy  Train F1       Test F1        \n",
      "---------------------------------------------------------------------------\n",
      "Logistic Regression      0.9341         0.9286         0.9340         0.9285         \n",
      "Decision Tree            0.9954         0.9113         0.9954         0.9113         \n",
      "Random Forest            0.9954         0.9280         0.9954         0.9279         \n",
      "Gradient Boosting        0.9366         0.9297         0.9364         0.9297         \n",
      "\n",
      "Overfitting Check:\n",
      "Logistic Regression seems okay (Train Acc: 0.9341, Test Acc: 0.9286)\n",
      "Decision Tree seems okay (Train Acc: 0.9954, Test Acc: 0.9113)\n",
      "Random Forest seems okay (Train Acc: 0.9954, Test Acc: 0.9280)\n",
      "Gradient Boosting seems okay (Train Acc: 0.9366, Test Acc: 0.9297)\n"
     ]
    }
   ],
   "source": [
    "# Print training vs test scores for each model\n",
    "print(f\"{'Model':<25}{'Train Accuracy':<15}{'Test Accuracy':<15}{'Train F1':<15}{'Test F1':<15}\")\n",
    "print(\"-\" * 75)\n",
    "\n",
    "for name in models.keys():\n",
    "    train_acc = train_results[name]['Accuracy']\n",
    "    test_acc = results[name]['Accuracy']\n",
    "    train_f1 = train_results[name]['F1 Score']\n",
    "    test_f1 = results[name]['F1 Score']\n",
    "    \n",
    "    print(f\"{name:<25}{train_acc:<15.4f}{test_acc:<15.4f}{train_f1:<15.4f}{test_f1:<15.4f}\")\n",
    "\n",
    "# Check if training accuracy is much higher than test accuracy, indicating overfitting\n",
    "print(\"\\nOverfitting Check:\")\n",
    "for name in models.keys():\n",
    "    train_acc = train_results[name]['Accuracy']\n",
    "    test_acc = results[name]['Accuracy']\n",
    "    if train_acc - test_acc > 0.1:\n",
    "        print(f\"{name} might be overfitting (Train Acc: {train_acc:.4f}, Test Acc: {test_acc:.4f})\")\n",
    "    else:\n",
    "        print(f\"{name} seems okay (Train Acc: {train_acc:.4f}, Test Acc: {test_acc:.4f})\")\n"
   ]
  },
  {
   "cell_type": "code",
   "execution_count": null,
   "metadata": {},
   "outputs": [],
   "source": []
  }
 ],
 "metadata": {
  "kernelspec": {
   "display_name": "Python 3",
   "language": "python",
   "name": "python3"
  },
  "language_info": {
   "codemirror_mode": {
    "name": "ipython",
    "version": 3
   },
   "file_extension": ".py",
   "mimetype": "text/x-python",
   "name": "python",
   "nbconvert_exporter": "python",
   "pygments_lexer": "ipython3",
   "version": "3.10.11"
  }
 },
 "nbformat": 4,
 "nbformat_minor": 2
}
